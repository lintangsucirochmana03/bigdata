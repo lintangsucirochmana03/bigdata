{
 "cells": [
  {
   "cell_type": "code",
   "execution_count": 1,
   "metadata": {},
   "outputs": [],
   "source": [
    "import pandas as pd\n",
    "import numpy as np\n",
    "from IPython.display import display\n",
    "pd.options.display.max_columns = 50"
   ]
  },
  {
   "cell_type": "code",
   "execution_count": 2,
   "metadata": {},
   "outputs": [
    {
     "ename": "ModuleNotFoundError",
     "evalue": "No module named 'pandas_datareader'",
     "output_type": "error",
     "traceback": [
      "\u001b[1;31m---------------------------------------------------------------------------\u001b[0m",
      "\u001b[1;31mModuleNotFoundError\u001b[0m                       Traceback (most recent call last)",
      "\u001b[1;32m<ipython-input-2-7da9f55a5922>\u001b[0m in \u001b[0;36m<module>\u001b[1;34m\u001b[0m\n\u001b[1;32m----> 1\u001b[1;33m \u001b[1;32mimport\u001b[0m \u001b[0mpandas_datareader\u001b[0m \u001b[1;32mas\u001b[0m \u001b[0mpdr\u001b[0m\u001b[1;33m\u001b[0m\u001b[1;33m\u001b[0m\u001b[0m\n\u001b[0m",
      "\u001b[1;31mModuleNotFoundError\u001b[0m: No module named 'pandas_datareader'"
     ]
    }
   ],
   "source": [
    "import pandas_datareader as pdr"
   ]
  },
  {
   "cell_type": "code",
   "execution_count": 3,
   "metadata": {},
   "outputs": [
    {
     "ename": "NameError",
     "evalue": "name 'pdr' is not defined",
     "output_type": "error",
     "traceback": [
      "\u001b[1;31m---------------------------------------------------------------------------\u001b[0m",
      "\u001b[1;31mNameError\u001b[0m                                 Traceback (most recent call last)",
      "\u001b[1;32m<ipython-input-3-39016a1d0e16>\u001b[0m in \u001b[0;36m<module>\u001b[1;34m\u001b[0m\n\u001b[1;32m----> 1\u001b[1;33m \u001b[0mtsla\u001b[0m \u001b[1;33m=\u001b[0m \u001b[0mpdr\u001b[0m\u001b[1;33m.\u001b[0m\u001b[0mDataReader\u001b[0m\u001b[1;33m(\u001b[0m\u001b[1;34m'tsla'\u001b[0m\u001b[1;33m,\u001b[0m \u001b[0mdata_source\u001b[0m\u001b[1;33m=\u001b[0m\u001b[1;34m'yahoo'\u001b[0m\u001b[1;33m,\u001b[0m\u001b[0mstart\u001b[0m\u001b[1;33m=\u001b[0m\u001b[1;34m'2017-1-1'\u001b[0m\u001b[1;33m)\u001b[0m\u001b[1;33m\u001b[0m\u001b[1;33m\u001b[0m\u001b[0m\n\u001b[0m\u001b[0;32m      2\u001b[0m \u001b[0mtsla\u001b[0m\u001b[1;33m.\u001b[0m\u001b[0mhead\u001b[0m\u001b[1;33m(\u001b[0m\u001b[1;36m8\u001b[0m\u001b[1;33m)\u001b[0m\u001b[1;33m\u001b[0m\u001b[1;33m\u001b[0m\u001b[0m\n",
      "\u001b[1;31mNameError\u001b[0m: name 'pdr' is not defined"
     ]
    }
   ],
   "source": [
    "tsla = pdr.DataReader('tsla', data_source='yahoo',start='2017-1-1')\n",
    "tsla.head(8)"
   ]
  },
  {
   "cell_type": "code",
   "execution_count": 4,
   "metadata": {},
   "outputs": [],
   "source": [
    "import pandas_datareader as pdr"
   ]
  },
  {
   "cell_type": "code",
   "execution_count": 5,
   "metadata": {},
   "outputs": [
    {
     "data": {
      "text/html": [
       "<div>\n",
       "<style>\n",
       "    .dataframe thead tr:only-child th {\n",
       "        text-align: right;\n",
       "    }\n",
       "\n",
       "    .dataframe thead th {\n",
       "        text-align: left;\n",
       "    }\n",
       "\n",
       "    .dataframe tbody tr th {\n",
       "        vertical-align: top;\n",
       "    }\n",
       "</style>\n",
       "<table border=\"1\" class=\"dataframe\">\n",
       "  <thead>\n",
       "    <tr style=\"text-align: right;\">\n",
       "      <th></th>\n",
       "      <th>High</th>\n",
       "      <th>Low</th>\n",
       "      <th>Open</th>\n",
       "      <th>Close</th>\n",
       "      <th>Volume</th>\n",
       "      <th>Adj Close</th>\n",
       "    </tr>\n",
       "    <tr>\n",
       "      <th>Date</th>\n",
       "      <th></th>\n",
       "      <th></th>\n",
       "      <th></th>\n",
       "      <th></th>\n",
       "      <th></th>\n",
       "      <th></th>\n",
       "    </tr>\n",
       "  </thead>\n",
       "  <tbody>\n",
       "    <tr>\n",
       "      <th>2017-01-03</th>\n",
       "      <td>220.330002</td>\n",
       "      <td>210.960007</td>\n",
       "      <td>214.860001</td>\n",
       "      <td>216.990005</td>\n",
       "      <td>5923300</td>\n",
       "      <td>216.990005</td>\n",
       "    </tr>\n",
       "    <tr>\n",
       "      <th>2017-01-04</th>\n",
       "      <td>228.000000</td>\n",
       "      <td>214.309998</td>\n",
       "      <td>214.750000</td>\n",
       "      <td>226.990005</td>\n",
       "      <td>11213500</td>\n",
       "      <td>226.990005</td>\n",
       "    </tr>\n",
       "    <tr>\n",
       "      <th>2017-01-05</th>\n",
       "      <td>227.479996</td>\n",
       "      <td>221.949997</td>\n",
       "      <td>226.419998</td>\n",
       "      <td>226.750000</td>\n",
       "      <td>5911700</td>\n",
       "      <td>226.750000</td>\n",
       "    </tr>\n",
       "    <tr>\n",
       "      <th>2017-01-06</th>\n",
       "      <td>230.309998</td>\n",
       "      <td>225.449997</td>\n",
       "      <td>226.929993</td>\n",
       "      <td>229.009995</td>\n",
       "      <td>5527900</td>\n",
       "      <td>229.009995</td>\n",
       "    </tr>\n",
       "    <tr>\n",
       "      <th>2017-01-09</th>\n",
       "      <td>231.919998</td>\n",
       "      <td>228.000000</td>\n",
       "      <td>228.970001</td>\n",
       "      <td>231.279999</td>\n",
       "      <td>3957000</td>\n",
       "      <td>231.279999</td>\n",
       "    </tr>\n",
       "    <tr>\n",
       "      <th>2017-01-10</th>\n",
       "      <td>232.000000</td>\n",
       "      <td>226.889999</td>\n",
       "      <td>232.000000</td>\n",
       "      <td>229.869995</td>\n",
       "      <td>3660000</td>\n",
       "      <td>229.869995</td>\n",
       "    </tr>\n",
       "    <tr>\n",
       "      <th>2017-01-11</th>\n",
       "      <td>229.979996</td>\n",
       "      <td>226.679993</td>\n",
       "      <td>229.070007</td>\n",
       "      <td>229.729996</td>\n",
       "      <td>3650800</td>\n",
       "      <td>229.729996</td>\n",
       "    </tr>\n",
       "    <tr>\n",
       "      <th>2017-01-12</th>\n",
       "      <td>230.699997</td>\n",
       "      <td>225.580002</td>\n",
       "      <td>229.059998</td>\n",
       "      <td>229.589996</td>\n",
       "      <td>3790200</td>\n",
       "      <td>229.589996</td>\n",
       "    </tr>\n",
       "  </tbody>\n",
       "</table>\n",
       "</div>"
      ],
      "text/plain": [
       "                  High         Low        Open       Close    Volume  \\\n",
       "Date                                                                   \n",
       "2017-01-03  220.330002  210.960007  214.860001  216.990005   5923300   \n",
       "2017-01-04  228.000000  214.309998  214.750000  226.990005  11213500   \n",
       "2017-01-05  227.479996  221.949997  226.419998  226.750000   5911700   \n",
       "2017-01-06  230.309998  225.449997  226.929993  229.009995   5527900   \n",
       "2017-01-09  231.919998  228.000000  228.970001  231.279999   3957000   \n",
       "2017-01-10  232.000000  226.889999  232.000000  229.869995   3660000   \n",
       "2017-01-11  229.979996  226.679993  229.070007  229.729996   3650800   \n",
       "2017-01-12  230.699997  225.580002  229.059998  229.589996   3790200   \n",
       "\n",
       "             Adj Close  \n",
       "Date                    \n",
       "2017-01-03  216.990005  \n",
       "2017-01-04  226.990005  \n",
       "2017-01-05  226.750000  \n",
       "2017-01-06  229.009995  \n",
       "2017-01-09  231.279999  \n",
       "2017-01-10  229.869995  \n",
       "2017-01-11  229.729996  \n",
       "2017-01-12  229.589996  "
      ]
     },
     "execution_count": 5,
     "metadata": {},
     "output_type": "execute_result"
    }
   ],
   "source": [
    "tsla = pdr.DataReader('tsla', data_source='yahoo',start='2017-1-1')\n",
    "tsla.head(8)"
   ]
  },
  {
   "cell_type": "code",
   "execution_count": 6,
   "metadata": {},
   "outputs": [],
   "source": [
    "tsla_close = tsla['Close']"
   ]
  },
  {
   "cell_type": "code",
   "execution_count": 7,
   "metadata": {},
   "outputs": [
    {
     "data": {
      "text/plain": [
       "Date\n",
       "2017-01-03    216.990005\n",
       "2017-01-04    226.990005\n",
       "2017-01-05    226.990005\n",
       "2017-01-06    229.009995\n",
       "2017-01-09    231.279999\n",
       "2017-01-10    231.279999\n",
       "2017-01-11    231.279999\n",
       "2017-01-12    231.279999\n",
       "Name: Close, dtype: float64"
      ]
     },
     "execution_count": 7,
     "metadata": {},
     "output_type": "execute_result"
    }
   ],
   "source": [
    "tsla_cummax = tsla_close.cummax()\n",
    "tsla_cummax.head(8)"
   ]
  },
  {
   "cell_type": "code",
   "execution_count": 8,
   "metadata": {},
   "outputs": [
    {
     "data": {
      "text/plain": [
       "Date\n",
       "2017-01-03    195.291005\n",
       "2017-01-04    204.291005\n",
       "2017-01-05    204.291005\n",
       "2017-01-06    206.108995\n",
       "2017-01-09    208.151999\n",
       "2017-01-10    208.151999\n",
       "2017-01-11    208.151999\n",
       "2017-01-12    208.151999\n",
       "Name: Close, dtype: float64"
      ]
     },
     "execution_count": 8,
     "metadata": {},
     "output_type": "execute_result"
    }
   ],
   "source": [
    "tsla_trailing_stop = tsla_cummax * .9\n",
    "tsla_trailing_stop.head(8)"
   ]
  },
  {
   "cell_type": "code",
   "execution_count": 9,
   "metadata": {},
   "outputs": [],
   "source": [
    "def set_trailing_loss(symbol, purchase_date, perc):\n",
    "    close = pdr.DataReader(symbol, 'yahoo', start=purchase_date)['Close']\n",
    "    return close.cummax() * perc"
   ]
  },
  {
   "cell_type": "code",
   "execution_count": 10,
   "metadata": {},
   "outputs": [
    {
     "data": {
      "text/plain": [
       "Date\n",
       "2017-06-01    59.584999\n",
       "2017-06-02    60.996002\n",
       "2017-06-05    61.437999\n",
       "2017-06-06    61.641997\n",
       "2017-06-07    61.641997\n",
       "Name: Close, dtype: float64"
      ]
     },
     "execution_count": 10,
     "metadata": {},
     "output_type": "execute_result"
    }
   ],
   "source": [
    "msft_trailing_stop = set_trailing_loss('msft', '2017-6-1', .85)\n",
    "msft_trailing_stop.head()"
   ]
  },
  {
   "cell_type": "code",
   "execution_count": null,
   "metadata": {},
   "outputs": [],
   "source": []
  }
 ],
 "metadata": {
  "kernelspec": {
   "display_name": "Python 3",
   "language": "python",
   "name": "python3"
  },
  "language_info": {
   "codemirror_mode": {
    "name": "ipython",
    "version": 3
   },
   "file_extension": ".py",
   "mimetype": "text/x-python",
   "name": "python",
   "nbconvert_exporter": "python",
   "pygments_lexer": "ipython3",
   "version": "3.6.7"
  }
 },
 "nbformat": 4,
 "nbformat_minor": 2
}
