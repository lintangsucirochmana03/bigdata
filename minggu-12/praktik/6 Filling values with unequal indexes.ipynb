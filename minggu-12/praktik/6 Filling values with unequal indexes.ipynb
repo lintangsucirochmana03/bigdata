{
 "cells": [
  {
   "cell_type": "code",
   "execution_count": 1,
   "metadata": {},
   "outputs": [],
   "source": [
    "import pandas as pd\n",
    "import numpy as np"
   ]
  },
  {
   "cell_type": "code",
   "execution_count": 2,
   "metadata": {},
   "outputs": [
    {
     "data": {
      "text/html": [
       "<div>\n",
       "<style>\n",
       "    .dataframe thead tr:only-child th {\n",
       "        text-align: right;\n",
       "    }\n",
       "\n",
       "    .dataframe thead th {\n",
       "        text-align: left;\n",
       "    }\n",
       "\n",
       "    .dataframe tbody tr th {\n",
       "        vertical-align: top;\n",
       "    }\n",
       "</style>\n",
       "<table border=\"1\" class=\"dataframe\">\n",
       "  <thead>\n",
       "    <tr style=\"text-align: right;\">\n",
       "      <th></th>\n",
       "      <th>yearID</th>\n",
       "      <th>stint</th>\n",
       "      <th>teamID</th>\n",
       "      <th>lgID</th>\n",
       "      <th>G</th>\n",
       "      <th>AB</th>\n",
       "      <th>R</th>\n",
       "      <th>H</th>\n",
       "      <th>2B</th>\n",
       "      <th>3B</th>\n",
       "      <th>...</th>\n",
       "      <th>RBI</th>\n",
       "      <th>SB</th>\n",
       "      <th>CS</th>\n",
       "      <th>BB</th>\n",
       "      <th>SO</th>\n",
       "      <th>IBB</th>\n",
       "      <th>HBP</th>\n",
       "      <th>SH</th>\n",
       "      <th>SF</th>\n",
       "      <th>GIDP</th>\n",
       "    </tr>\n",
       "    <tr>\n",
       "      <th>playerID</th>\n",
       "      <th></th>\n",
       "      <th></th>\n",
       "      <th></th>\n",
       "      <th></th>\n",
       "      <th></th>\n",
       "      <th></th>\n",
       "      <th></th>\n",
       "      <th></th>\n",
       "      <th></th>\n",
       "      <th></th>\n",
       "      <th></th>\n",
       "      <th></th>\n",
       "      <th></th>\n",
       "      <th></th>\n",
       "      <th></th>\n",
       "      <th></th>\n",
       "      <th></th>\n",
       "      <th></th>\n",
       "      <th></th>\n",
       "      <th></th>\n",
       "      <th></th>\n",
       "    </tr>\n",
       "  </thead>\n",
       "  <tbody>\n",
       "    <tr>\n",
       "      <th>altuvjo01</th>\n",
       "      <td>2014</td>\n",
       "      <td>1</td>\n",
       "      <td>HOU</td>\n",
       "      <td>AL</td>\n",
       "      <td>158</td>\n",
       "      <td>660</td>\n",
       "      <td>85</td>\n",
       "      <td>225</td>\n",
       "      <td>47</td>\n",
       "      <td>3</td>\n",
       "      <td>...</td>\n",
       "      <td>59.0</td>\n",
       "      <td>56.0</td>\n",
       "      <td>9.0</td>\n",
       "      <td>36</td>\n",
       "      <td>53.0</td>\n",
       "      <td>7.0</td>\n",
       "      <td>5.0</td>\n",
       "      <td>1.0</td>\n",
       "      <td>5.0</td>\n",
       "      <td>20.0</td>\n",
       "    </tr>\n",
       "    <tr>\n",
       "      <th>cartech02</th>\n",
       "      <td>2014</td>\n",
       "      <td>1</td>\n",
       "      <td>HOU</td>\n",
       "      <td>AL</td>\n",
       "      <td>145</td>\n",
       "      <td>507</td>\n",
       "      <td>68</td>\n",
       "      <td>115</td>\n",
       "      <td>21</td>\n",
       "      <td>1</td>\n",
       "      <td>...</td>\n",
       "      <td>88.0</td>\n",
       "      <td>5.0</td>\n",
       "      <td>2.0</td>\n",
       "      <td>56</td>\n",
       "      <td>182.0</td>\n",
       "      <td>6.0</td>\n",
       "      <td>5.0</td>\n",
       "      <td>0.0</td>\n",
       "      <td>4.0</td>\n",
       "      <td>12.0</td>\n",
       "    </tr>\n",
       "    <tr>\n",
       "      <th>castrja01</th>\n",
       "      <td>2014</td>\n",
       "      <td>1</td>\n",
       "      <td>HOU</td>\n",
       "      <td>AL</td>\n",
       "      <td>126</td>\n",
       "      <td>465</td>\n",
       "      <td>43</td>\n",
       "      <td>103</td>\n",
       "      <td>21</td>\n",
       "      <td>2</td>\n",
       "      <td>...</td>\n",
       "      <td>56.0</td>\n",
       "      <td>1.0</td>\n",
       "      <td>0.0</td>\n",
       "      <td>34</td>\n",
       "      <td>151.0</td>\n",
       "      <td>1.0</td>\n",
       "      <td>9.0</td>\n",
       "      <td>1.0</td>\n",
       "      <td>3.0</td>\n",
       "      <td>11.0</td>\n",
       "    </tr>\n",
       "    <tr>\n",
       "      <th>corpoca01</th>\n",
       "      <td>2014</td>\n",
       "      <td>1</td>\n",
       "      <td>HOU</td>\n",
       "      <td>AL</td>\n",
       "      <td>55</td>\n",
       "      <td>170</td>\n",
       "      <td>22</td>\n",
       "      <td>40</td>\n",
       "      <td>6</td>\n",
       "      <td>0</td>\n",
       "      <td>...</td>\n",
       "      <td>19.0</td>\n",
       "      <td>0.0</td>\n",
       "      <td>0.0</td>\n",
       "      <td>14</td>\n",
       "      <td>37.0</td>\n",
       "      <td>0.0</td>\n",
       "      <td>3.0</td>\n",
       "      <td>1.0</td>\n",
       "      <td>2.0</td>\n",
       "      <td>3.0</td>\n",
       "    </tr>\n",
       "    <tr>\n",
       "      <th>dominma01</th>\n",
       "      <td>2014</td>\n",
       "      <td>1</td>\n",
       "      <td>HOU</td>\n",
       "      <td>AL</td>\n",
       "      <td>157</td>\n",
       "      <td>564</td>\n",
       "      <td>51</td>\n",
       "      <td>121</td>\n",
       "      <td>17</td>\n",
       "      <td>0</td>\n",
       "      <td>...</td>\n",
       "      <td>57.0</td>\n",
       "      <td>0.0</td>\n",
       "      <td>1.0</td>\n",
       "      <td>29</td>\n",
       "      <td>125.0</td>\n",
       "      <td>2.0</td>\n",
       "      <td>5.0</td>\n",
       "      <td>2.0</td>\n",
       "      <td>7.0</td>\n",
       "      <td>23.0</td>\n",
       "    </tr>\n",
       "  </tbody>\n",
       "</table>\n",
       "<p>5 rows × 21 columns</p>\n",
       "</div>"
      ],
      "text/plain": [
       "           yearID  stint teamID lgID    G   AB   R    H  2B  3B  ...    RBI  \\\n",
       "playerID                                                         ...          \n",
       "altuvjo01    2014      1    HOU   AL  158  660  85  225  47   3  ...   59.0   \n",
       "cartech02    2014      1    HOU   AL  145  507  68  115  21   1  ...   88.0   \n",
       "castrja01    2014      1    HOU   AL  126  465  43  103  21   2  ...   56.0   \n",
       "corpoca01    2014      1    HOU   AL   55  170  22   40   6   0  ...   19.0   \n",
       "dominma01    2014      1    HOU   AL  157  564  51  121  17   0  ...   57.0   \n",
       "\n",
       "             SB   CS  BB     SO  IBB  HBP   SH   SF  GIDP  \n",
       "playerID                                                   \n",
       "altuvjo01  56.0  9.0  36   53.0  7.0  5.0  1.0  5.0  20.0  \n",
       "cartech02   5.0  2.0  56  182.0  6.0  5.0  0.0  4.0  12.0  \n",
       "castrja01   1.0  0.0  34  151.0  1.0  9.0  1.0  3.0  11.0  \n",
       "corpoca01   0.0  0.0  14   37.0  0.0  3.0  1.0  2.0   3.0  \n",
       "dominma01   0.0  1.0  29  125.0  2.0  5.0  2.0  7.0  23.0  \n",
       "\n",
       "[5 rows x 21 columns]"
      ]
     },
     "execution_count": 2,
     "metadata": {},
     "output_type": "execute_result"
    }
   ],
   "source": [
    "baseball_14 = pd.read_csv('data/baseball14.csv', index_col='playerID')\n",
    "baseball_15 = pd.read_csv('data/baseball15.csv', index_col='playerID')\n",
    "baseball_16 = pd.read_csv('data/baseball16.csv', index_col='playerID')\n",
    "baseball_14.head()"
   ]
  },
  {
   "cell_type": "code",
   "execution_count": 3,
   "metadata": {},
   "outputs": [
    {
     "data": {
      "text/plain": [
       "Index(['corpoca01', 'dominma01', 'fowlede01', 'grossro01', 'guzmaje01',\n",
       "       'hoeslj01', 'krausma01', 'preslal01', 'singljo02'],\n",
       "      dtype='object', name='playerID')"
      ]
     },
     "execution_count": 3,
     "metadata": {},
     "output_type": "execute_result"
    }
   ],
   "source": [
    "baseball_14.index.difference(baseball_15.index)"
   ]
  },
  {
   "cell_type": "code",
   "execution_count": 4,
   "metadata": {},
   "outputs": [
    {
     "data": {
      "text/plain": [
       "Index(['corpoca01', 'dominma01', 'fowlede01', 'grossro01', 'guzmaje01',\n",
       "       'hoeslj01', 'krausma01', 'preslal01', 'singljo02'],\n",
       "      dtype='object', name='playerID')"
      ]
     },
     "execution_count": 4,
     "metadata": {},
     "output_type": "execute_result"
    }
   ],
   "source": [
    "baseball_14.index.difference(baseball_15.index)"
   ]
  },
  {
   "cell_type": "code",
   "execution_count": 5,
   "metadata": {},
   "outputs": [
    {
     "data": {
      "text/plain": [
       "playerID\n",
       "altuvjo01    225\n",
       "cartech02    115\n",
       "castrja01    103\n",
       "corpoca01     40\n",
       "dominma01    121\n",
       "Name: H, dtype: int64"
      ]
     },
     "execution_count": 5,
     "metadata": {},
     "output_type": "execute_result"
    }
   ],
   "source": [
    "hits_14 = baseball_14['H']\n",
    "hits_15 = baseball_15['H']\n",
    "hits_16 = baseball_16['H']\n",
    "hits_14.head()"
   ]
  },
  {
   "cell_type": "code",
   "execution_count": 6,
   "metadata": {},
   "outputs": [
    {
     "data": {
      "text/plain": [
       "playerID\n",
       "altuvjo01    425.0\n",
       "cartech02    193.0\n",
       "castrja01    174.0\n",
       "congeha01      NaN\n",
       "corpoca01      NaN\n",
       "Name: H, dtype: float64"
      ]
     },
     "execution_count": 6,
     "metadata": {},
     "output_type": "execute_result"
    }
   ],
   "source": [
    "(hits_14 + hits_15).head()"
   ]
  },
  {
   "cell_type": "code",
   "execution_count": 7,
   "metadata": {},
   "outputs": [
    {
     "data": {
      "text/plain": [
       "playerID\n",
       "altuvjo01    425.0\n",
       "cartech02    193.0\n",
       "castrja01    174.0\n",
       "congeha01     46.0\n",
       "corpoca01     40.0\n",
       "Name: H, dtype: float64"
      ]
     },
     "execution_count": 7,
     "metadata": {},
     "output_type": "execute_result"
    }
   ],
   "source": [
    "hits_14.add(hits_15, fill_value=0).head()"
   ]
  },
  {
   "cell_type": "code",
   "execution_count": 8,
   "metadata": {},
   "outputs": [
    {
     "data": {
      "text/plain": [
       "playerID\n",
       "altuvjo01    641.0\n",
       "bregmal01     53.0\n",
       "cartech02    193.0\n",
       "castrja01    243.0\n",
       "congeha01     46.0\n",
       "Name: H, dtype: float64"
      ]
     },
     "execution_count": 8,
     "metadata": {},
     "output_type": "execute_result"
    }
   ],
   "source": [
    "hits_total = hits_14.add(hits_15, fill_value=0).add(hits_16, fill_value=0)\n",
    "hits_total.head()"
   ]
  },
  {
   "cell_type": "code",
   "execution_count": 9,
   "metadata": {},
   "outputs": [
    {
     "data": {
      "text/plain": [
       "False"
      ]
     },
     "execution_count": 9,
     "metadata": {},
     "output_type": "execute_result"
    }
   ],
   "source": [
    "hits_total.hasnans"
   ]
  },
  {
   "cell_type": "code",
   "execution_count": 10,
   "metadata": {},
   "outputs": [
    {
     "data": {
      "text/plain": [
       "a    NaN\n",
       "b    3.0\n",
       "c    NaN\n",
       "d    1.0\n",
       "dtype: float64"
      ]
     },
     "execution_count": 10,
     "metadata": {},
     "output_type": "execute_result"
    }
   ],
   "source": [
    "s = pd.Series(index=['a', 'b', 'c', 'd'], data=[np.nan, 3, np.nan, 1])\n",
    "s"
   ]
  },
  {
   "cell_type": "code",
   "execution_count": 11,
   "metadata": {},
   "outputs": [
    {
     "data": {
      "text/plain": [
       "a     NaN\n",
       "b     6.0\n",
       "c    10.0\n",
       "dtype: float64"
      ]
     },
     "execution_count": 11,
     "metadata": {},
     "output_type": "execute_result"
    }
   ],
   "source": [
    "s1 = pd.Series(index=['a', 'b', 'c'], data=[np.nan, 6, 10])\n",
    "s1"
   ]
  },
  {
   "cell_type": "code",
   "execution_count": 12,
   "metadata": {},
   "outputs": [
    {
     "data": {
      "text/plain": [
       "a     NaN\n",
       "b     9.0\n",
       "c    15.0\n",
       "d     6.0\n",
       "dtype: float64"
      ]
     },
     "execution_count": 12,
     "metadata": {},
     "output_type": "execute_result"
    }
   ],
   "source": [
    "s.add(s1, fill_value=5)"
   ]
  },
  {
   "cell_type": "code",
   "execution_count": 13,
   "metadata": {},
   "outputs": [
    {
     "data": {
      "text/plain": [
       "a     NaN\n",
       "b     9.0\n",
       "c    15.0\n",
       "d     6.0\n",
       "dtype: float64"
      ]
     },
     "execution_count": 13,
     "metadata": {},
     "output_type": "execute_result"
    }
   ],
   "source": [
    "s1.add(s, fill_value=5)"
   ]
  },
  {
   "cell_type": "code",
   "execution_count": 14,
   "metadata": {},
   "outputs": [
    {
     "data": {
      "text/html": [
       "<div>\n",
       "<style>\n",
       "    .dataframe thead tr:only-child th {\n",
       "        text-align: right;\n",
       "    }\n",
       "\n",
       "    .dataframe thead th {\n",
       "        text-align: left;\n",
       "    }\n",
       "\n",
       "    .dataframe tbody tr th {\n",
       "        vertical-align: top;\n",
       "    }\n",
       "</style>\n",
       "<table border=\"1\" class=\"dataframe\">\n",
       "  <thead>\n",
       "    <tr style=\"text-align: right;\">\n",
       "      <th></th>\n",
       "      <th>G</th>\n",
       "      <th>AB</th>\n",
       "      <th>R</th>\n",
       "      <th>H</th>\n",
       "    </tr>\n",
       "    <tr>\n",
       "      <th>playerID</th>\n",
       "      <th></th>\n",
       "      <th></th>\n",
       "      <th></th>\n",
       "      <th></th>\n",
       "    </tr>\n",
       "  </thead>\n",
       "  <tbody>\n",
       "    <tr>\n",
       "      <th>altuvjo01</th>\n",
       "      <td>158</td>\n",
       "      <td>660</td>\n",
       "      <td>85</td>\n",
       "      <td>225</td>\n",
       "    </tr>\n",
       "    <tr>\n",
       "      <th>cartech02</th>\n",
       "      <td>145</td>\n",
       "      <td>507</td>\n",
       "      <td>68</td>\n",
       "      <td>115</td>\n",
       "    </tr>\n",
       "    <tr>\n",
       "      <th>castrja01</th>\n",
       "      <td>126</td>\n",
       "      <td>465</td>\n",
       "      <td>43</td>\n",
       "      <td>103</td>\n",
       "    </tr>\n",
       "    <tr>\n",
       "      <th>corpoca01</th>\n",
       "      <td>55</td>\n",
       "      <td>170</td>\n",
       "      <td>22</td>\n",
       "      <td>40</td>\n",
       "    </tr>\n",
       "    <tr>\n",
       "      <th>dominma01</th>\n",
       "      <td>157</td>\n",
       "      <td>564</td>\n",
       "      <td>51</td>\n",
       "      <td>121</td>\n",
       "    </tr>\n",
       "  </tbody>\n",
       "</table>\n",
       "</div>"
      ],
      "text/plain": [
       "             G   AB   R    H\n",
       "playerID                    \n",
       "altuvjo01  158  660  85  225\n",
       "cartech02  145  507  68  115\n",
       "castrja01  126  465  43  103\n",
       "corpoca01   55  170  22   40\n",
       "dominma01  157  564  51  121"
      ]
     },
     "execution_count": 14,
     "metadata": {},
     "output_type": "execute_result"
    }
   ],
   "source": [
    "df_14 = baseball_14[['G','AB', 'R', 'H']]\n",
    "df_14.head()"
   ]
  },
  {
   "cell_type": "code",
   "execution_count": 15,
   "metadata": {},
   "outputs": [
    {
     "data": {
      "text/html": [
       "<div>\n",
       "<style>\n",
       "    .dataframe thead tr:only-child th {\n",
       "        text-align: right;\n",
       "    }\n",
       "\n",
       "    .dataframe thead th {\n",
       "        text-align: left;\n",
       "    }\n",
       "\n",
       "    .dataframe tbody tr th {\n",
       "        vertical-align: top;\n",
       "    }\n",
       "</style>\n",
       "<table border=\"1\" class=\"dataframe\">\n",
       "  <thead>\n",
       "    <tr style=\"text-align: right;\">\n",
       "      <th></th>\n",
       "      <th>AB</th>\n",
       "      <th>R</th>\n",
       "      <th>H</th>\n",
       "      <th>HR</th>\n",
       "    </tr>\n",
       "    <tr>\n",
       "      <th>playerID</th>\n",
       "      <th></th>\n",
       "      <th></th>\n",
       "      <th></th>\n",
       "      <th></th>\n",
       "    </tr>\n",
       "  </thead>\n",
       "  <tbody>\n",
       "    <tr>\n",
       "      <th>altuvjo01</th>\n",
       "      <td>638</td>\n",
       "      <td>86</td>\n",
       "      <td>200</td>\n",
       "      <td>15</td>\n",
       "    </tr>\n",
       "    <tr>\n",
       "      <th>cartech02</th>\n",
       "      <td>391</td>\n",
       "      <td>50</td>\n",
       "      <td>78</td>\n",
       "      <td>24</td>\n",
       "    </tr>\n",
       "    <tr>\n",
       "      <th>castrja01</th>\n",
       "      <td>337</td>\n",
       "      <td>38</td>\n",
       "      <td>71</td>\n",
       "      <td>11</td>\n",
       "    </tr>\n",
       "    <tr>\n",
       "      <th>congeha01</th>\n",
       "      <td>201</td>\n",
       "      <td>25</td>\n",
       "      <td>46</td>\n",
       "      <td>11</td>\n",
       "    </tr>\n",
       "    <tr>\n",
       "      <th>correca01</th>\n",
       "      <td>387</td>\n",
       "      <td>52</td>\n",
       "      <td>108</td>\n",
       "      <td>22</td>\n",
       "    </tr>\n",
       "  </tbody>\n",
       "</table>\n",
       "</div>"
      ],
      "text/plain": [
       "            AB   R    H  HR\n",
       "playerID                   \n",
       "altuvjo01  638  86  200  15\n",
       "cartech02  391  50   78  24\n",
       "castrja01  337  38   71  11\n",
       "congeha01  201  25   46  11\n",
       "correca01  387  52  108  22"
      ]
     },
     "execution_count": 15,
     "metadata": {},
     "output_type": "execute_result"
    }
   ],
   "source": [
    "df_15 = baseball_15[['AB', 'R', 'H', 'HR']]\n",
    "df_15.head()"
   ]
  },
  {
   "cell_type": "code",
   "execution_count": 16,
   "metadata": {},
   "outputs": [
    {
     "data": {
      "text/html": [
       "<style  type=\"text/css\" >\n",
       "    #T_e9d40b3a_1181_11e9_92b7_9cad97228e61row0_col1 {\n",
       "            background-color:  yellow;\n",
       "        }    #T_e9d40b3a_1181_11e9_92b7_9cad97228e61row0_col3 {\n",
       "            background-color:  yellow;\n",
       "        }    #T_e9d40b3a_1181_11e9_92b7_9cad97228e61row1_col1 {\n",
       "            background-color:  yellow;\n",
       "        }    #T_e9d40b3a_1181_11e9_92b7_9cad97228e61row1_col3 {\n",
       "            background-color:  yellow;\n",
       "        }    #T_e9d40b3a_1181_11e9_92b7_9cad97228e61row2_col1 {\n",
       "            background-color:  yellow;\n",
       "        }    #T_e9d40b3a_1181_11e9_92b7_9cad97228e61row2_col3 {\n",
       "            background-color:  yellow;\n",
       "        }    #T_e9d40b3a_1181_11e9_92b7_9cad97228e61row3_col0 {\n",
       "            background-color:  yellow;\n",
       "        }    #T_e9d40b3a_1181_11e9_92b7_9cad97228e61row3_col1 {\n",
       "            background-color:  yellow;\n",
       "        }    #T_e9d40b3a_1181_11e9_92b7_9cad97228e61row3_col2 {\n",
       "            background-color:  yellow;\n",
       "        }    #T_e9d40b3a_1181_11e9_92b7_9cad97228e61row3_col3 {\n",
       "            background-color:  yellow;\n",
       "        }    #T_e9d40b3a_1181_11e9_92b7_9cad97228e61row3_col4 {\n",
       "            background-color:  yellow;\n",
       "        }    #T_e9d40b3a_1181_11e9_92b7_9cad97228e61row4_col0 {\n",
       "            background-color:  yellow;\n",
       "        }    #T_e9d40b3a_1181_11e9_92b7_9cad97228e61row4_col1 {\n",
       "            background-color:  yellow;\n",
       "        }    #T_e9d40b3a_1181_11e9_92b7_9cad97228e61row4_col2 {\n",
       "            background-color:  yellow;\n",
       "        }    #T_e9d40b3a_1181_11e9_92b7_9cad97228e61row4_col3 {\n",
       "            background-color:  yellow;\n",
       "        }    #T_e9d40b3a_1181_11e9_92b7_9cad97228e61row4_col4 {\n",
       "            background-color:  yellow;\n",
       "        }    #T_e9d40b3a_1181_11e9_92b7_9cad97228e61row5_col0 {\n",
       "            background-color:  yellow;\n",
       "        }    #T_e9d40b3a_1181_11e9_92b7_9cad97228e61row5_col1 {\n",
       "            background-color:  yellow;\n",
       "        }    #T_e9d40b3a_1181_11e9_92b7_9cad97228e61row5_col2 {\n",
       "            background-color:  yellow;\n",
       "        }    #T_e9d40b3a_1181_11e9_92b7_9cad97228e61row5_col3 {\n",
       "            background-color:  yellow;\n",
       "        }    #T_e9d40b3a_1181_11e9_92b7_9cad97228e61row5_col4 {\n",
       "            background-color:  yellow;\n",
       "        }    #T_e9d40b3a_1181_11e9_92b7_9cad97228e61row6_col0 {\n",
       "            background-color:  yellow;\n",
       "        }    #T_e9d40b3a_1181_11e9_92b7_9cad97228e61row6_col1 {\n",
       "            background-color:  yellow;\n",
       "        }    #T_e9d40b3a_1181_11e9_92b7_9cad97228e61row6_col2 {\n",
       "            background-color:  yellow;\n",
       "        }    #T_e9d40b3a_1181_11e9_92b7_9cad97228e61row6_col3 {\n",
       "            background-color:  yellow;\n",
       "        }    #T_e9d40b3a_1181_11e9_92b7_9cad97228e61row6_col4 {\n",
       "            background-color:  yellow;\n",
       "        }    #T_e9d40b3a_1181_11e9_92b7_9cad97228e61row7_col0 {\n",
       "            background-color:  yellow;\n",
       "        }    #T_e9d40b3a_1181_11e9_92b7_9cad97228e61row7_col1 {\n",
       "            background-color:  yellow;\n",
       "        }    #T_e9d40b3a_1181_11e9_92b7_9cad97228e61row7_col2 {\n",
       "            background-color:  yellow;\n",
       "        }    #T_e9d40b3a_1181_11e9_92b7_9cad97228e61row7_col3 {\n",
       "            background-color:  yellow;\n",
       "        }    #T_e9d40b3a_1181_11e9_92b7_9cad97228e61row7_col4 {\n",
       "            background-color:  yellow;\n",
       "        }    #T_e9d40b3a_1181_11e9_92b7_9cad97228e61row8_col0 {\n",
       "            background-color:  yellow;\n",
       "        }    #T_e9d40b3a_1181_11e9_92b7_9cad97228e61row8_col1 {\n",
       "            background-color:  yellow;\n",
       "        }    #T_e9d40b3a_1181_11e9_92b7_9cad97228e61row8_col2 {\n",
       "            background-color:  yellow;\n",
       "        }    #T_e9d40b3a_1181_11e9_92b7_9cad97228e61row8_col3 {\n",
       "            background-color:  yellow;\n",
       "        }    #T_e9d40b3a_1181_11e9_92b7_9cad97228e61row8_col4 {\n",
       "            background-color:  yellow;\n",
       "        }    #T_e9d40b3a_1181_11e9_92b7_9cad97228e61row9_col0 {\n",
       "            background-color:  yellow;\n",
       "        }    #T_e9d40b3a_1181_11e9_92b7_9cad97228e61row9_col1 {\n",
       "            background-color:  yellow;\n",
       "        }    #T_e9d40b3a_1181_11e9_92b7_9cad97228e61row9_col2 {\n",
       "            background-color:  yellow;\n",
       "        }    #T_e9d40b3a_1181_11e9_92b7_9cad97228e61row9_col3 {\n",
       "            background-color:  yellow;\n",
       "        }    #T_e9d40b3a_1181_11e9_92b7_9cad97228e61row9_col4 {\n",
       "            background-color:  yellow;\n",
       "        }</style>  \n",
       "<table id=\"T_e9d40b3a_1181_11e9_92b7_9cad97228e61\" > \n",
       "<thead>    <tr> \n",
       "        <th class=\"blank level0\" ></th> \n",
       "        <th class=\"col_heading level0 col0\" >AB</th> \n",
       "        <th class=\"col_heading level0 col1\" >G</th> \n",
       "        <th class=\"col_heading level0 col2\" >H</th> \n",
       "        <th class=\"col_heading level0 col3\" >HR</th> \n",
       "        <th class=\"col_heading level0 col4\" >R</th> \n",
       "    </tr>    <tr> \n",
       "        <th class=\"index_name level0\" >playerID</th> \n",
       "        <th class=\"blank\" ></th> \n",
       "        <th class=\"blank\" ></th> \n",
       "        <th class=\"blank\" ></th> \n",
       "        <th class=\"blank\" ></th> \n",
       "        <th class=\"blank\" ></th> \n",
       "    </tr></thead> \n",
       "<tbody>    <tr> \n",
       "        <th id=\"T_e9d40b3a_1181_11e9_92b7_9cad97228e61level0_row0\" class=\"row_heading level0 row0\" >altuvjo01</th> \n",
       "        <td id=\"T_e9d40b3a_1181_11e9_92b7_9cad97228e61row0_col0\" class=\"data row0 col0\" >1298</td> \n",
       "        <td id=\"T_e9d40b3a_1181_11e9_92b7_9cad97228e61row0_col1\" class=\"data row0 col1\" >nan</td> \n",
       "        <td id=\"T_e9d40b3a_1181_11e9_92b7_9cad97228e61row0_col2\" class=\"data row0 col2\" >425</td> \n",
       "        <td id=\"T_e9d40b3a_1181_11e9_92b7_9cad97228e61row0_col3\" class=\"data row0 col3\" >nan</td> \n",
       "        <td id=\"T_e9d40b3a_1181_11e9_92b7_9cad97228e61row0_col4\" class=\"data row0 col4\" >171</td> \n",
       "    </tr>    <tr> \n",
       "        <th id=\"T_e9d40b3a_1181_11e9_92b7_9cad97228e61level0_row1\" class=\"row_heading level0 row1\" >cartech02</th> \n",
       "        <td id=\"T_e9d40b3a_1181_11e9_92b7_9cad97228e61row1_col0\" class=\"data row1 col0\" >898</td> \n",
       "        <td id=\"T_e9d40b3a_1181_11e9_92b7_9cad97228e61row1_col1\" class=\"data row1 col1\" >nan</td> \n",
       "        <td id=\"T_e9d40b3a_1181_11e9_92b7_9cad97228e61row1_col2\" class=\"data row1 col2\" >193</td> \n",
       "        <td id=\"T_e9d40b3a_1181_11e9_92b7_9cad97228e61row1_col3\" class=\"data row1 col3\" >nan</td> \n",
       "        <td id=\"T_e9d40b3a_1181_11e9_92b7_9cad97228e61row1_col4\" class=\"data row1 col4\" >118</td> \n",
       "    </tr>    <tr> \n",
       "        <th id=\"T_e9d40b3a_1181_11e9_92b7_9cad97228e61level0_row2\" class=\"row_heading level0 row2\" >castrja01</th> \n",
       "        <td id=\"T_e9d40b3a_1181_11e9_92b7_9cad97228e61row2_col0\" class=\"data row2 col0\" >802</td> \n",
       "        <td id=\"T_e9d40b3a_1181_11e9_92b7_9cad97228e61row2_col1\" class=\"data row2 col1\" >nan</td> \n",
       "        <td id=\"T_e9d40b3a_1181_11e9_92b7_9cad97228e61row2_col2\" class=\"data row2 col2\" >174</td> \n",
       "        <td id=\"T_e9d40b3a_1181_11e9_92b7_9cad97228e61row2_col3\" class=\"data row2 col3\" >nan</td> \n",
       "        <td id=\"T_e9d40b3a_1181_11e9_92b7_9cad97228e61row2_col4\" class=\"data row2 col4\" >81</td> \n",
       "    </tr>    <tr> \n",
       "        <th id=\"T_e9d40b3a_1181_11e9_92b7_9cad97228e61level0_row3\" class=\"row_heading level0 row3\" >congeha01</th> \n",
       "        <td id=\"T_e9d40b3a_1181_11e9_92b7_9cad97228e61row3_col0\" class=\"data row3 col0\" >nan</td> \n",
       "        <td id=\"T_e9d40b3a_1181_11e9_92b7_9cad97228e61row3_col1\" class=\"data row3 col1\" >nan</td> \n",
       "        <td id=\"T_e9d40b3a_1181_11e9_92b7_9cad97228e61row3_col2\" class=\"data row3 col2\" >nan</td> \n",
       "        <td id=\"T_e9d40b3a_1181_11e9_92b7_9cad97228e61row3_col3\" class=\"data row3 col3\" >nan</td> \n",
       "        <td id=\"T_e9d40b3a_1181_11e9_92b7_9cad97228e61row3_col4\" class=\"data row3 col4\" >nan</td> \n",
       "    </tr>    <tr> \n",
       "        <th id=\"T_e9d40b3a_1181_11e9_92b7_9cad97228e61level0_row4\" class=\"row_heading level0 row4\" >corpoca01</th> \n",
       "        <td id=\"T_e9d40b3a_1181_11e9_92b7_9cad97228e61row4_col0\" class=\"data row4 col0\" >nan</td> \n",
       "        <td id=\"T_e9d40b3a_1181_11e9_92b7_9cad97228e61row4_col1\" class=\"data row4 col1\" >nan</td> \n",
       "        <td id=\"T_e9d40b3a_1181_11e9_92b7_9cad97228e61row4_col2\" class=\"data row4 col2\" >nan</td> \n",
       "        <td id=\"T_e9d40b3a_1181_11e9_92b7_9cad97228e61row4_col3\" class=\"data row4 col3\" >nan</td> \n",
       "        <td id=\"T_e9d40b3a_1181_11e9_92b7_9cad97228e61row4_col4\" class=\"data row4 col4\" >nan</td> \n",
       "    </tr>    <tr> \n",
       "        <th id=\"T_e9d40b3a_1181_11e9_92b7_9cad97228e61level0_row5\" class=\"row_heading level0 row5\" >correca01</th> \n",
       "        <td id=\"T_e9d40b3a_1181_11e9_92b7_9cad97228e61row5_col0\" class=\"data row5 col0\" >nan</td> \n",
       "        <td id=\"T_e9d40b3a_1181_11e9_92b7_9cad97228e61row5_col1\" class=\"data row5 col1\" >nan</td> \n",
       "        <td id=\"T_e9d40b3a_1181_11e9_92b7_9cad97228e61row5_col2\" class=\"data row5 col2\" >nan</td> \n",
       "        <td id=\"T_e9d40b3a_1181_11e9_92b7_9cad97228e61row5_col3\" class=\"data row5 col3\" >nan</td> \n",
       "        <td id=\"T_e9d40b3a_1181_11e9_92b7_9cad97228e61row5_col4\" class=\"data row5 col4\" >nan</td> \n",
       "    </tr>    <tr> \n",
       "        <th id=\"T_e9d40b3a_1181_11e9_92b7_9cad97228e61level0_row6\" class=\"row_heading level0 row6\" >dominma01</th> \n",
       "        <td id=\"T_e9d40b3a_1181_11e9_92b7_9cad97228e61row6_col0\" class=\"data row6 col0\" >nan</td> \n",
       "        <td id=\"T_e9d40b3a_1181_11e9_92b7_9cad97228e61row6_col1\" class=\"data row6 col1\" >nan</td> \n",
       "        <td id=\"T_e9d40b3a_1181_11e9_92b7_9cad97228e61row6_col2\" class=\"data row6 col2\" >nan</td> \n",
       "        <td id=\"T_e9d40b3a_1181_11e9_92b7_9cad97228e61row6_col3\" class=\"data row6 col3\" >nan</td> \n",
       "        <td id=\"T_e9d40b3a_1181_11e9_92b7_9cad97228e61row6_col4\" class=\"data row6 col4\" >nan</td> \n",
       "    </tr>    <tr> \n",
       "        <th id=\"T_e9d40b3a_1181_11e9_92b7_9cad97228e61level0_row7\" class=\"row_heading level0 row7\" >fowlede01</th> \n",
       "        <td id=\"T_e9d40b3a_1181_11e9_92b7_9cad97228e61row7_col0\" class=\"data row7 col0\" >nan</td> \n",
       "        <td id=\"T_e9d40b3a_1181_11e9_92b7_9cad97228e61row7_col1\" class=\"data row7 col1\" >nan</td> \n",
       "        <td id=\"T_e9d40b3a_1181_11e9_92b7_9cad97228e61row7_col2\" class=\"data row7 col2\" >nan</td> \n",
       "        <td id=\"T_e9d40b3a_1181_11e9_92b7_9cad97228e61row7_col3\" class=\"data row7 col3\" >nan</td> \n",
       "        <td id=\"T_e9d40b3a_1181_11e9_92b7_9cad97228e61row7_col4\" class=\"data row7 col4\" >nan</td> \n",
       "    </tr>    <tr> \n",
       "        <th id=\"T_e9d40b3a_1181_11e9_92b7_9cad97228e61level0_row8\" class=\"row_heading level0 row8\" >gattiev01</th> \n",
       "        <td id=\"T_e9d40b3a_1181_11e9_92b7_9cad97228e61row8_col0\" class=\"data row8 col0\" >nan</td> \n",
       "        <td id=\"T_e9d40b3a_1181_11e9_92b7_9cad97228e61row8_col1\" class=\"data row8 col1\" >nan</td> \n",
       "        <td id=\"T_e9d40b3a_1181_11e9_92b7_9cad97228e61row8_col2\" class=\"data row8 col2\" >nan</td> \n",
       "        <td id=\"T_e9d40b3a_1181_11e9_92b7_9cad97228e61row8_col3\" class=\"data row8 col3\" >nan</td> \n",
       "        <td id=\"T_e9d40b3a_1181_11e9_92b7_9cad97228e61row8_col4\" class=\"data row8 col4\" >nan</td> \n",
       "    </tr>    <tr> \n",
       "        <th id=\"T_e9d40b3a_1181_11e9_92b7_9cad97228e61level0_row9\" class=\"row_heading level0 row9\" >gomezca01</th> \n",
       "        <td id=\"T_e9d40b3a_1181_11e9_92b7_9cad97228e61row9_col0\" class=\"data row9 col0\" >nan</td> \n",
       "        <td id=\"T_e9d40b3a_1181_11e9_92b7_9cad97228e61row9_col1\" class=\"data row9 col1\" >nan</td> \n",
       "        <td id=\"T_e9d40b3a_1181_11e9_92b7_9cad97228e61row9_col2\" class=\"data row9 col2\" >nan</td> \n",
       "        <td id=\"T_e9d40b3a_1181_11e9_92b7_9cad97228e61row9_col3\" class=\"data row9 col3\" >nan</td> \n",
       "        <td id=\"T_e9d40b3a_1181_11e9_92b7_9cad97228e61row9_col4\" class=\"data row9 col4\" >nan</td> \n",
       "    </tr></tbody> \n",
       "</table> "
      ],
      "text/plain": [
       "<pandas.io.formats.style.Styler at 0x67ddad0>"
      ]
     },
     "execution_count": 16,
     "metadata": {},
     "output_type": "execute_result"
    }
   ],
   "source": [
    "(df_14 + df_15).head(10).style.highlight_null('yellow')"
   ]
  },
  {
   "cell_type": "code",
   "execution_count": 17,
   "metadata": {},
   "outputs": [
    {
     "data": {
      "text/html": [
       "<style  type=\"text/css\" >\n",
       "    #T_ee4fc66e_1181_11e9_8201_9cad97228e61row3_col1 {\n",
       "            background-color:  yellow;\n",
       "        }    #T_ee4fc66e_1181_11e9_8201_9cad97228e61row4_col3 {\n",
       "            background-color:  yellow;\n",
       "        }    #T_ee4fc66e_1181_11e9_8201_9cad97228e61row5_col1 {\n",
       "            background-color:  yellow;\n",
       "        }    #T_ee4fc66e_1181_11e9_8201_9cad97228e61row6_col3 {\n",
       "            background-color:  yellow;\n",
       "        }    #T_ee4fc66e_1181_11e9_8201_9cad97228e61row7_col3 {\n",
       "            background-color:  yellow;\n",
       "        }    #T_ee4fc66e_1181_11e9_8201_9cad97228e61row8_col1 {\n",
       "            background-color:  yellow;\n",
       "        }    #T_ee4fc66e_1181_11e9_8201_9cad97228e61row9_col1 {\n",
       "            background-color:  yellow;\n",
       "        }</style>  \n",
       "<table id=\"T_ee4fc66e_1181_11e9_8201_9cad97228e61\" > \n",
       "<thead>    <tr> \n",
       "        <th class=\"blank level0\" ></th> \n",
       "        <th class=\"col_heading level0 col0\" >AB</th> \n",
       "        <th class=\"col_heading level0 col1\" >G</th> \n",
       "        <th class=\"col_heading level0 col2\" >H</th> \n",
       "        <th class=\"col_heading level0 col3\" >HR</th> \n",
       "        <th class=\"col_heading level0 col4\" >R</th> \n",
       "    </tr>    <tr> \n",
       "        <th class=\"index_name level0\" >playerID</th> \n",
       "        <th class=\"blank\" ></th> \n",
       "        <th class=\"blank\" ></th> \n",
       "        <th class=\"blank\" ></th> \n",
       "        <th class=\"blank\" ></th> \n",
       "        <th class=\"blank\" ></th> \n",
       "    </tr></thead> \n",
       "<tbody>    <tr> \n",
       "        <th id=\"T_ee4fc66e_1181_11e9_8201_9cad97228e61level0_row0\" class=\"row_heading level0 row0\" >altuvjo01</th> \n",
       "        <td id=\"T_ee4fc66e_1181_11e9_8201_9cad97228e61row0_col0\" class=\"data row0 col0\" >1298</td> \n",
       "        <td id=\"T_ee4fc66e_1181_11e9_8201_9cad97228e61row0_col1\" class=\"data row0 col1\" >158</td> \n",
       "        <td id=\"T_ee4fc66e_1181_11e9_8201_9cad97228e61row0_col2\" class=\"data row0 col2\" >425</td> \n",
       "        <td id=\"T_ee4fc66e_1181_11e9_8201_9cad97228e61row0_col3\" class=\"data row0 col3\" >15</td> \n",
       "        <td id=\"T_ee4fc66e_1181_11e9_8201_9cad97228e61row0_col4\" class=\"data row0 col4\" >171</td> \n",
       "    </tr>    <tr> \n",
       "        <th id=\"T_ee4fc66e_1181_11e9_8201_9cad97228e61level0_row1\" class=\"row_heading level0 row1\" >cartech02</th> \n",
       "        <td id=\"T_ee4fc66e_1181_11e9_8201_9cad97228e61row1_col0\" class=\"data row1 col0\" >898</td> \n",
       "        <td id=\"T_ee4fc66e_1181_11e9_8201_9cad97228e61row1_col1\" class=\"data row1 col1\" >145</td> \n",
       "        <td id=\"T_ee4fc66e_1181_11e9_8201_9cad97228e61row1_col2\" class=\"data row1 col2\" >193</td> \n",
       "        <td id=\"T_ee4fc66e_1181_11e9_8201_9cad97228e61row1_col3\" class=\"data row1 col3\" >24</td> \n",
       "        <td id=\"T_ee4fc66e_1181_11e9_8201_9cad97228e61row1_col4\" class=\"data row1 col4\" >118</td> \n",
       "    </tr>    <tr> \n",
       "        <th id=\"T_ee4fc66e_1181_11e9_8201_9cad97228e61level0_row2\" class=\"row_heading level0 row2\" >castrja01</th> \n",
       "        <td id=\"T_ee4fc66e_1181_11e9_8201_9cad97228e61row2_col0\" class=\"data row2 col0\" >802</td> \n",
       "        <td id=\"T_ee4fc66e_1181_11e9_8201_9cad97228e61row2_col1\" class=\"data row2 col1\" >126</td> \n",
       "        <td id=\"T_ee4fc66e_1181_11e9_8201_9cad97228e61row2_col2\" class=\"data row2 col2\" >174</td> \n",
       "        <td id=\"T_ee4fc66e_1181_11e9_8201_9cad97228e61row2_col3\" class=\"data row2 col3\" >11</td> \n",
       "        <td id=\"T_ee4fc66e_1181_11e9_8201_9cad97228e61row2_col4\" class=\"data row2 col4\" >81</td> \n",
       "    </tr>    <tr> \n",
       "        <th id=\"T_ee4fc66e_1181_11e9_8201_9cad97228e61level0_row3\" class=\"row_heading level0 row3\" >congeha01</th> \n",
       "        <td id=\"T_ee4fc66e_1181_11e9_8201_9cad97228e61row3_col0\" class=\"data row3 col0\" >201</td> \n",
       "        <td id=\"T_ee4fc66e_1181_11e9_8201_9cad97228e61row3_col1\" class=\"data row3 col1\" >nan</td> \n",
       "        <td id=\"T_ee4fc66e_1181_11e9_8201_9cad97228e61row3_col2\" class=\"data row3 col2\" >46</td> \n",
       "        <td id=\"T_ee4fc66e_1181_11e9_8201_9cad97228e61row3_col3\" class=\"data row3 col3\" >11</td> \n",
       "        <td id=\"T_ee4fc66e_1181_11e9_8201_9cad97228e61row3_col4\" class=\"data row3 col4\" >25</td> \n",
       "    </tr>    <tr> \n",
       "        <th id=\"T_ee4fc66e_1181_11e9_8201_9cad97228e61level0_row4\" class=\"row_heading level0 row4\" >corpoca01</th> \n",
       "        <td id=\"T_ee4fc66e_1181_11e9_8201_9cad97228e61row4_col0\" class=\"data row4 col0\" >170</td> \n",
       "        <td id=\"T_ee4fc66e_1181_11e9_8201_9cad97228e61row4_col1\" class=\"data row4 col1\" >55</td> \n",
       "        <td id=\"T_ee4fc66e_1181_11e9_8201_9cad97228e61row4_col2\" class=\"data row4 col2\" >40</td> \n",
       "        <td id=\"T_ee4fc66e_1181_11e9_8201_9cad97228e61row4_col3\" class=\"data row4 col3\" >nan</td> \n",
       "        <td id=\"T_ee4fc66e_1181_11e9_8201_9cad97228e61row4_col4\" class=\"data row4 col4\" >22</td> \n",
       "    </tr>    <tr> \n",
       "        <th id=\"T_ee4fc66e_1181_11e9_8201_9cad97228e61level0_row5\" class=\"row_heading level0 row5\" >correca01</th> \n",
       "        <td id=\"T_ee4fc66e_1181_11e9_8201_9cad97228e61row5_col0\" class=\"data row5 col0\" >387</td> \n",
       "        <td id=\"T_ee4fc66e_1181_11e9_8201_9cad97228e61row5_col1\" class=\"data row5 col1\" >nan</td> \n",
       "        <td id=\"T_ee4fc66e_1181_11e9_8201_9cad97228e61row5_col2\" class=\"data row5 col2\" >108</td> \n",
       "        <td id=\"T_ee4fc66e_1181_11e9_8201_9cad97228e61row5_col3\" class=\"data row5 col3\" >22</td> \n",
       "        <td id=\"T_ee4fc66e_1181_11e9_8201_9cad97228e61row5_col4\" class=\"data row5 col4\" >52</td> \n",
       "    </tr>    <tr> \n",
       "        <th id=\"T_ee4fc66e_1181_11e9_8201_9cad97228e61level0_row6\" class=\"row_heading level0 row6\" >dominma01</th> \n",
       "        <td id=\"T_ee4fc66e_1181_11e9_8201_9cad97228e61row6_col0\" class=\"data row6 col0\" >564</td> \n",
       "        <td id=\"T_ee4fc66e_1181_11e9_8201_9cad97228e61row6_col1\" class=\"data row6 col1\" >157</td> \n",
       "        <td id=\"T_ee4fc66e_1181_11e9_8201_9cad97228e61row6_col2\" class=\"data row6 col2\" >121</td> \n",
       "        <td id=\"T_ee4fc66e_1181_11e9_8201_9cad97228e61row6_col3\" class=\"data row6 col3\" >nan</td> \n",
       "        <td id=\"T_ee4fc66e_1181_11e9_8201_9cad97228e61row6_col4\" class=\"data row6 col4\" >51</td> \n",
       "    </tr>    <tr> \n",
       "        <th id=\"T_ee4fc66e_1181_11e9_8201_9cad97228e61level0_row7\" class=\"row_heading level0 row7\" >fowlede01</th> \n",
       "        <td id=\"T_ee4fc66e_1181_11e9_8201_9cad97228e61row7_col0\" class=\"data row7 col0\" >434</td> \n",
       "        <td id=\"T_ee4fc66e_1181_11e9_8201_9cad97228e61row7_col1\" class=\"data row7 col1\" >116</td> \n",
       "        <td id=\"T_ee4fc66e_1181_11e9_8201_9cad97228e61row7_col2\" class=\"data row7 col2\" >120</td> \n",
       "        <td id=\"T_ee4fc66e_1181_11e9_8201_9cad97228e61row7_col3\" class=\"data row7 col3\" >nan</td> \n",
       "        <td id=\"T_ee4fc66e_1181_11e9_8201_9cad97228e61row7_col4\" class=\"data row7 col4\" >61</td> \n",
       "    </tr>    <tr> \n",
       "        <th id=\"T_ee4fc66e_1181_11e9_8201_9cad97228e61level0_row8\" class=\"row_heading level0 row8\" >gattiev01</th> \n",
       "        <td id=\"T_ee4fc66e_1181_11e9_8201_9cad97228e61row8_col0\" class=\"data row8 col0\" >566</td> \n",
       "        <td id=\"T_ee4fc66e_1181_11e9_8201_9cad97228e61row8_col1\" class=\"data row8 col1\" >nan</td> \n",
       "        <td id=\"T_ee4fc66e_1181_11e9_8201_9cad97228e61row8_col2\" class=\"data row8 col2\" >139</td> \n",
       "        <td id=\"T_ee4fc66e_1181_11e9_8201_9cad97228e61row8_col3\" class=\"data row8 col3\" >27</td> \n",
       "        <td id=\"T_ee4fc66e_1181_11e9_8201_9cad97228e61row8_col4\" class=\"data row8 col4\" >66</td> \n",
       "    </tr>    <tr> \n",
       "        <th id=\"T_ee4fc66e_1181_11e9_8201_9cad97228e61level0_row9\" class=\"row_heading level0 row9\" >gomezca01</th> \n",
       "        <td id=\"T_ee4fc66e_1181_11e9_8201_9cad97228e61row9_col0\" class=\"data row9 col0\" >149</td> \n",
       "        <td id=\"T_ee4fc66e_1181_11e9_8201_9cad97228e61row9_col1\" class=\"data row9 col1\" >nan</td> \n",
       "        <td id=\"T_ee4fc66e_1181_11e9_8201_9cad97228e61row9_col2\" class=\"data row9 col2\" >36</td> \n",
       "        <td id=\"T_ee4fc66e_1181_11e9_8201_9cad97228e61row9_col3\" class=\"data row9 col3\" >4</td> \n",
       "        <td id=\"T_ee4fc66e_1181_11e9_8201_9cad97228e61row9_col4\" class=\"data row9 col4\" >19</td> \n",
       "    </tr></tbody> \n",
       "</table> "
      ],
      "text/plain": [
       "<pandas.io.formats.style.Styler at 0x7313530>"
      ]
     },
     "execution_count": 17,
     "metadata": {},
     "output_type": "execute_result"
    }
   ],
   "source": [
    "df_14.add(df_15, fill_value=0).head(10).style.highlight_null('yellow')"
   ]
  },
  {
   "cell_type": "code",
   "execution_count": null,
   "metadata": {},
   "outputs": [],
   "source": []
  }
 ],
 "metadata": {
  "kernelspec": {
   "display_name": "Python 3",
   "language": "python",
   "name": "python3"
  },
  "language_info": {
   "codemirror_mode": {
    "name": "ipython",
    "version": 3
   },
   "file_extension": ".py",
   "mimetype": "text/x-python",
   "name": "python",
   "nbconvert_exporter": "python",
   "pygments_lexer": "ipython3",
   "version": "3.6.7"
  }
 },
 "nbformat": 4,
 "nbformat_minor": 2
}
